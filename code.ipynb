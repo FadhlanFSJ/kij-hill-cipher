{
 "cells": [
  {
   "cell_type": "markdown",
   "metadata": {},
   "source": [
    "# Bagian Penjelasan Kode Program Hill Cipher (Encrypt & Decrypt)\n",
    "\n",
    "Pada Program ini saya menggunakan Matrix 2x2 sebagai kunci dan plain teks yang memiliki jumlah huruf berkelipatan 2\n",
    "\n",
    "Referensi : <br>\n",
    "https://journal.uii.ac.id/Snati/article/view/6245/5618 <br>\n",
    "https://www.youtube.com/watch?v=mlUoYUzakPw <br>\n",
    "https://www.youtube.com/watch?v=XCPC30TYfqw <br>\n",
    "\n",
    "<b>Fadhlan S. J. (1203210064)</b>"
   ]
  },
  {
   "cell_type": "code",
   "execution_count": 274,
   "metadata": {},
   "outputs": [],
   "source": [
    "import numpy as np\n",
    "#Menggunakan Library Numpy"
   ]
  },
  {
   "cell_type": "code",
   "execution_count": 275,
   "metadata": {},
   "outputs": [
    {
     "data": {
      "text/plain": [
       "'Hill Cipher Methods'"
      ]
     },
     "execution_count": 275,
     "metadata": {},
     "output_type": "execute_result"
    }
   ],
   "source": [
    "Plain = \"Hill Cipher Methods\"\n",
    "Plain\n",
    "# Input teks yang akan di Enkripsi"
   ]
  },
  {
   "cell_type": "code",
   "execution_count": 276,
   "metadata": {},
   "outputs": [
    {
     "data": {
      "text/plain": [
       "'hillciphermethods'"
      ]
     },
     "execution_count": 276,
     "metadata": {},
     "output_type": "execute_result"
    }
   ],
   "source": [
    "Plain = Plain.lower().replace(\" \",\"\")\n",
    "Plain"
   ]
  },
  {
   "cell_type": "code",
   "execution_count": 277,
   "metadata": {},
   "outputs": [],
   "source": [
    "Key = \"test\"\n",
    "Key\n",
    "if len(Plain) % 2 != 0:\n",
    "    Plain+='x'\n",
    "    #Bila total huruf pada plain teks tidak termasuk kelipatan 2, maka akan menambahkan satu huruf x\n",
    "# Memasukkan key sebagai kunci untuk enkripsi & dekripsi"
   ]
  },
  {
   "cell_type": "code",
   "execution_count": 278,
   "metadata": {},
   "outputs": [
    {
     "name": "stdout",
     "output_type": "stream",
     "text": [
      "{'a': 0, 'b': 1, 'c': 2, 'd': 3, 'e': 4, 'f': 5, 'g': 6, 'h': 7, 'i': 8, 'j': 9, 'k': 10, 'l': 11, 'm': 12, 'n': 13, 'o': 14, 'p': 15, 'q': 16, 'r': 17, 's': 18, 't': 19, 'u': 20, 'v': 21, 'w': 22, 'x': 23, 'y': 24, 'z': 25}\n"
     ]
    }
   ],
   "source": [
    "EAM = {chr(i):i-97 for i in range(97, 97+26)}\n",
    "print(EAM)\n",
    "# Mengacu pada ASCII, mengambil nilai a-z (dimulai dari 0 sampai 25)"
   ]
  },
  {
   "cell_type": "code",
   "execution_count": 279,
   "metadata": {},
   "outputs": [
    {
     "name": "stdout",
     "output_type": "stream",
     "text": [
      "{0: 'a', 1: 'b', 2: 'c', 3: 'd', 4: 'e', 5: 'f', 6: 'g', 7: 'h', 8: 'i', 9: 'j', 10: 'k', 11: 'l', 12: 'm', 13: 'n', 14: 'o', 15: 'p', 16: 'q', 17: 'r', 18: 's', 19: 't', 20: 'u', 21: 'v', 22: 'w', 23: 'x', 24: 'y', 25: 'z'}\n"
     ]
    }
   ],
   "source": [
    "EAM_rev = {i-97:chr(i) for i in range(97, 97+26)}\n",
    "print(EAM_rev)\n",
    "# hanyak membalik saja untuk mengubah angka menjadi huruf kembali"
   ]
  },
  {
   "cell_type": "code",
   "execution_count": 280,
   "metadata": {},
   "outputs": [
    {
     "data": {
      "text/plain": [
       "[7, 8, 11, 11, 2, 8, 15, 7, 4, 17, 12, 4, 19, 7, 14, 3, 18, 23]"
      ]
     },
     "execution_count": 280,
     "metadata": {},
     "output_type": "execute_result"
    }
   ],
   "source": [
    "Plain_number = [EAM[i] for i in Plain]\n",
    "Plain_number\n",
    "\n",
    "# mengubah tiap huruf pada teks plain menjadi nomor"
   ]
  },
  {
   "cell_type": "code",
   "execution_count": 281,
   "metadata": {},
   "outputs": [
    {
     "data": {
      "text/plain": [
       "[19, 4, 18, 19]"
      ]
     },
     "execution_count": 281,
     "metadata": {},
     "output_type": "execute_result"
    }
   ],
   "source": [
    "key_number = [EAM[i] for i in Key]\n",
    "key_number\n",
    "# mengubah tiap huruf key menjadi nomor"
   ]
  },
  {
   "cell_type": "code",
   "execution_count": 282,
   "metadata": {},
   "outputs": [],
   "source": [
    "# if len(key_number) % 2 == 0:\n",
    "#     divider = 2\n",
    "# else:\n",
    "#     divider = 3\n",
    "BL = len(key_number)// 2\n",
    "# BL = len(key_number) // divider\n",
    "# Digunakan untuk menjadikan sebuah array menyesuaikan dengan len dari key number"
   ]
  },
  {
   "cell_type": "code",
   "execution_count": 283,
   "metadata": {},
   "outputs": [
    {
     "data": {
      "text/plain": [
       "array([[19,  4],\n",
       "       [18, 19]])"
      ]
     },
     "execution_count": 283,
     "metadata": {},
     "output_type": "execute_result"
    }
   ],
   "source": [
    "key_matrix = np.array(key_number).reshape(BL, BL)\n",
    "key_matrix\n",
    "\n",
    "# Mengubah key number menjadi key matriks 2x2"
   ]
  },
  {
   "cell_type": "code",
   "execution_count": 284,
   "metadata": {},
   "outputs": [
    {
     "data": {
      "text/plain": [
       "array([ 7,  8, 11, 11,  2,  8, 15,  7,  4, 17, 12,  4, 19,  7, 14,  3, 18,\n",
       "       23])"
      ]
     },
     "execution_count": 284,
     "metadata": {},
     "output_type": "execute_result"
    }
   ],
   "source": [
    "Plain_array = np.array(Plain_number)\n",
    "Plain_array\n",
    "#Membuat Plain number tadi menjadi plain array"
   ]
  },
  {
   "cell_type": "code",
   "execution_count": 285,
   "metadata": {},
   "outputs": [
    {
     "data": {
      "text/plain": [
       "[array([7, 8]),\n",
       " array([11, 11]),\n",
       " array([2, 8]),\n",
       " array([15,  7]),\n",
       " array([ 4, 17]),\n",
       " array([12,  4]),\n",
       " array([19,  7]),\n",
       " array([14,  3]),\n",
       " array([18, 23])]"
      ]
     },
     "execution_count": 285,
     "metadata": {},
     "output_type": "execute_result"
    }
   ],
   "source": [
    "plain_block = np.split(Plain_array, len(Plain_array)/BL)\n",
    "plain_block\n",
    "#Membuat plain block yang memiliki nilai dari plain array dibagi menjadi 2 nilai per array, digunakan untuk mengkalkulasi pada rumus"
   ]
  },
  {
   "cell_type": "code",
   "execution_count": 286,
   "metadata": {},
   "outputs": [
    {
     "data": {
      "text/plain": [
       "[array([17, 24], dtype=int32),\n",
       " array([17, 19], dtype=int32),\n",
       " array([0, 4], dtype=int32),\n",
       " array([21, 11], dtype=int32),\n",
       " array([18,  1], dtype=int32),\n",
       " array([14, 20], dtype=int32),\n",
       " array([19,  1], dtype=int32),\n",
       " array([8, 9], dtype=int32),\n",
       " array([ 2, 15], dtype=int32)]"
      ]
     },
     "execution_count": 286,
     "metadata": {},
     "output_type": "execute_result"
    }
   ],
   "source": [
    "CT_blocks = [np.matmul(plain_block[i], key_matrix) % 26 for i in range(len(plain_block))]\n",
    "CT_blocks\n",
    "#Melakukan perhitungan setiap 2 kata/angka yang sudah di split tadi"
   ]
  },
  {
   "cell_type": "code",
   "execution_count": 287,
   "metadata": {},
   "outputs": [
    {
     "data": {
      "text/plain": [
       "array([17, 24, 17, 19,  0,  4, 21, 11, 18,  1, 14, 20, 19,  1,  8,  9,  2,\n",
       "       15], dtype=int32)"
      ]
     },
     "execution_count": 287,
     "metadata": {},
     "output_type": "execute_result"
    }
   ],
   "source": [
    "CT_array = np.concatenate(CT_blocks)\n",
    "CT_array"
   ]
  },
  {
   "cell_type": "code",
   "execution_count": 288,
   "metadata": {},
   "outputs": [
    {
     "data": {
      "text/plain": [
       "['r',\n",
       " 'y',\n",
       " 'r',\n",
       " 't',\n",
       " 'a',\n",
       " 'e',\n",
       " 'v',\n",
       " 'l',\n",
       " 's',\n",
       " 'b',\n",
       " 'o',\n",
       " 'u',\n",
       " 't',\n",
       " 'b',\n",
       " 'i',\n",
       " 'j',\n",
       " 'c',\n",
       " 'p']"
      ]
     },
     "execution_count": 288,
     "metadata": {},
     "output_type": "execute_result"
    }
   ],
   "source": [
    "CT = [EAM_rev[CT_array[i]] for i in range(len(CT_array))]\n",
    "CT"
   ]
  },
  {
   "cell_type": "code",
   "execution_count": 289,
   "metadata": {},
   "outputs": [
    {
     "data": {
      "text/plain": [
       "'ryrtaevlsboutbijcp'"
      ]
     },
     "execution_count": 289,
     "metadata": {},
     "output_type": "execute_result"
    }
   ],
   "source": [
    "''.join(CT)"
   ]
  },
  {
   "cell_type": "code",
   "execution_count": 290,
   "metadata": {},
   "outputs": [
    {
     "data": {
      "text/plain": [
       "array([[ 0.06574394, -0.01384083],\n",
       "       [-0.06228374,  0.06574394]])"
      ]
     },
     "execution_count": 290,
     "metadata": {},
     "output_type": "execute_result"
    }
   ],
   "source": [
    "np.linalg.inv(key_matrix)"
   ]
  },
  {
   "cell_type": "code",
   "execution_count": 291,
   "metadata": {},
   "outputs": [
    {
     "data": {
      "text/plain": [
       "289"
      ]
     },
     "execution_count": 291,
     "metadata": {},
     "output_type": "execute_result"
    }
   ],
   "source": [
    "round(np.linalg.det(key_matrix))\n"
   ]
  },
  {
   "cell_type": "code",
   "execution_count": 292,
   "metadata": {},
   "outputs": [
    {
     "data": {
      "text/plain": [
       "array([[ 19.,  -4.],\n",
       "       [-18.,  19.]])"
      ]
     },
     "execution_count": 292,
     "metadata": {},
     "output_type": "execute_result"
    }
   ],
   "source": [
    "adj_key_matrix = np.linalg.inv(key_matrix) * round(np.linalg.det(key_matrix))\n",
    "adj_key_matrix\n",
    "\n",
    "# Menentukan adjoint matriks dengan cara invers * determinan"
   ]
  },
  {
   "cell_type": "code",
   "execution_count": 293,
   "metadata": {},
   "outputs": [
    {
     "data": {
      "text/plain": [
       "array([[15., 16.],\n",
       "       [20., 15.]])"
      ]
     },
     "execution_count": 293,
     "metadata": {},
     "output_type": "execute_result"
    }
   ],
   "source": [
    "key_inverse = (9 * adj_key_matrix) % 26\n",
    "key_inverse\n",
    "# Nilai 9 merupakan determinan inverse dari fungsi pow(determinan matrix key, -1, 26) berarti hasil determinan dipangkat -1 lalu di modulus 26\n",
    "# Menentukan key matrix inverse dengan cara nilai determinan inverse * adjoint lalu di mod 26"
   ]
  },
  {
   "cell_type": "code",
   "execution_count": 294,
   "metadata": {},
   "outputs": [
    {
     "data": {
      "text/plain": [
       "[17, 24, 17, 19, 0, 4, 21, 11, 18, 1, 14, 20, 19, 1, 8, 9, 2, 15]"
      ]
     },
     "execution_count": 294,
     "metadata": {},
     "output_type": "execute_result"
    }
   ],
   "source": [
    "CT_number = [EAM[i] for i in CT]\n",
    "CT_number"
   ]
  },
  {
   "cell_type": "code",
   "execution_count": 295,
   "metadata": {},
   "outputs": [
    {
     "data": {
      "text/plain": [
       "array([17, 24, 17, 19,  0,  4, 21, 11, 18,  1, 14, 20, 19,  1,  8,  9,  2,\n",
       "       15])"
      ]
     },
     "execution_count": 295,
     "metadata": {},
     "output_type": "execute_result"
    }
   ],
   "source": [
    "CT_array = np.array(CT_number)\n",
    "CT_array"
   ]
  },
  {
   "cell_type": "code",
   "execution_count": 296,
   "metadata": {},
   "outputs": [
    {
     "data": {
      "text/plain": [
       "[array([17, 24]),\n",
       " array([17, 19]),\n",
       " array([0, 4]),\n",
       " array([21, 11]),\n",
       " array([18,  1]),\n",
       " array([14, 20]),\n",
       " array([19,  1]),\n",
       " array([8, 9]),\n",
       " array([ 2, 15])]"
      ]
     },
     "execution_count": 296,
     "metadata": {},
     "output_type": "execute_result"
    }
   ],
   "source": [
    "CT_blocks = np.split(CT_array, len(CT_number)//BL)\n",
    "CT_blocks"
   ]
  },
  {
   "cell_type": "code",
   "execution_count": 297,
   "metadata": {},
   "outputs": [
    {
     "data": {
      "text/plain": [
       "[array([7., 8.]),\n",
       " array([11., 11.]),\n",
       " array([2., 8.]),\n",
       " array([15.,  7.]),\n",
       " array([ 4., 17.]),\n",
       " array([12.,  4.]),\n",
       " array([19.,  7.]),\n",
       " array([14.,  3.]),\n",
       " array([18., 23.])]"
      ]
     },
     "execution_count": 297,
     "metadata": {},
     "output_type": "execute_result"
    }
   ],
   "source": [
    "PT_blocks = [np.matmul(CT_blocks[i], key_inverse) % 26 for i in range(len(CT_blocks))]\n",
    "PT_blocks"
   ]
  },
  {
   "cell_type": "code",
   "execution_count": 298,
   "metadata": {},
   "outputs": [
    {
     "data": {
      "text/plain": [
       "array([ 7.,  8., 11., 11.,  2.,  8., 15.,  7.,  4., 17., 12.,  4., 19.,\n",
       "        7., 14.,  3., 18., 23.])"
      ]
     },
     "execution_count": 298,
     "metadata": {},
     "output_type": "execute_result"
    }
   ],
   "source": [
    "PT_array = np.concatenate(PT_blocks)\n",
    "PT_array"
   ]
  },
  {
   "cell_type": "code",
   "execution_count": 299,
   "metadata": {},
   "outputs": [
    {
     "data": {
      "text/plain": [
       "['h',\n",
       " 'i',\n",
       " 'l',\n",
       " 'l',\n",
       " 'c',\n",
       " 'i',\n",
       " 'p',\n",
       " 'h',\n",
       " 'e',\n",
       " 'r',\n",
       " 'm',\n",
       " 'e',\n",
       " 't',\n",
       " 'h',\n",
       " 'o',\n",
       " 'd',\n",
       " 's',\n",
       " 'x']"
      ]
     },
     "execution_count": 299,
     "metadata": {},
     "output_type": "execute_result"
    }
   ],
   "source": [
    "PT = [EAM_rev[round(i)] for i in PT_array]\n",
    "PT"
   ]
  },
  {
   "cell_type": "code",
   "execution_count": 300,
   "metadata": {},
   "outputs": [
    {
     "data": {
      "text/plain": [
       "'hillciphermethodsx'"
      ]
     },
     "execution_count": 300,
     "metadata": {},
     "output_type": "execute_result"
    }
   ],
   "source": [
    "''.join(PT)"
   ]
  }
 ],
 "metadata": {
  "kernelspec": {
   "display_name": "Python 3 (ipykernel)",
   "language": "python",
   "name": "python3"
  },
  "language_info": {
   "codemirror_mode": {
    "name": "ipython",
    "version": 3
   },
   "file_extension": ".py",
   "mimetype": "text/x-python",
   "name": "python",
   "nbconvert_exporter": "python",
   "pygments_lexer": "ipython3",
   "version": "3.9.16"
  }
 },
 "nbformat": 4,
 "nbformat_minor": 2
}
