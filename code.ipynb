{
 "cells": [
  {
   "cell_type": "markdown",
   "metadata": {},
   "source": [
    "# Bagian Penjelasan Kode Program Hill Cipher (Encrypt & Decrypt)\n",
    "\n",
    "Pada Program ini saya menggunakan Matrix 2x2 sebagai kunci dan plain teks yang memiliki jumlah huruf berkelipatan 2\n",
    "\n",
    "Referensi : <br>\n",
    "https://journal.uii.ac.id/Snati/article/view/6245/5618 <br>\n",
    "https://www.youtube.com/watch?v=mlUoYUzakPw <br>\n",
    "https://www.youtube.com/watch?v=XCPC30TYfqw <br>\n",
    "\n",
    "<b>Fadhlan S. J. (1203210064)</b>"
   ]
  },
  {
   "cell_type": "code",
   "execution_count": 1,
   "metadata": {},
   "outputs": [],
   "source": [
    "import numpy as np\n",
    "#Menggunakan Library Numpy"
   ]
  },
  {
   "cell_type": "code",
   "execution_count": 2,
   "metadata": {},
   "outputs": [
    {
     "data": {
      "text/plain": [
       "'Hill Cipher'"
      ]
     },
     "execution_count": 2,
     "metadata": {},
     "output_type": "execute_result"
    }
   ],
   "source": [
    "Plain = \"Hill Cipher\"\n",
    "Plain\n",
    "# Input teks yang akan di Enkripsi"
   ]
  },
  {
   "cell_type": "code",
   "execution_count": 3,
   "metadata": {},
   "outputs": [
    {
     "data": {
      "text/plain": [
       "'hillcipher'"
      ]
     },
     "execution_count": 3,
     "metadata": {},
     "output_type": "execute_result"
    }
   ],
   "source": [
    "Plain = Plain.lower().replace(\" \",\"\")\n",
    "Plain"
   ]
  },
  {
   "cell_type": "code",
   "execution_count": 4,
   "metadata": {},
   "outputs": [],
   "source": [
    "Key = \"test\"\n",
    "Key\n",
    "if len(Plain) % 2 != 0:\n",
    "    Plain+='x'\n",
    "    #Bila total huruf pada plain teks tidak termasuk kelipatan 2, maka akan menambahkan satu huruf x\n",
    "# Memasukkan key sebagai kunci untuk enkripsi & dekripsi"
   ]
  },
  {
   "cell_type": "code",
   "execution_count": 5,
   "metadata": {},
   "outputs": [
    {
     "name": "stdout",
     "output_type": "stream",
     "text": [
      "{'a': 0, 'b': 1, 'c': 2, 'd': 3, 'e': 4, 'f': 5, 'g': 6, 'h': 7, 'i': 8, 'j': 9, 'k': 10, 'l': 11, 'm': 12, 'n': 13, 'o': 14, 'p': 15, 'q': 16, 'r': 17, 's': 18, 't': 19, 'u': 20, 'v': 21, 'w': 22, 'x': 23, 'y': 24, 'z': 25}\n"
     ]
    }
   ],
   "source": [
    "EAM = {chr(i):i-97 for i in range(97, 97+26)}\n",
    "print(EAM)\n",
    "# Mengacu pada ASCII, mengambil nilai a-z (dimulai dari 0 sampai 25)"
   ]
  },
  {
   "cell_type": "code",
   "execution_count": 6,
   "metadata": {},
   "outputs": [
    {
     "name": "stdout",
     "output_type": "stream",
     "text": [
      "{0: 'a', 1: 'b', 2: 'c', 3: 'd', 4: 'e', 5: 'f', 6: 'g', 7: 'h', 8: 'i', 9: 'j', 10: 'k', 11: 'l', 12: 'm', 13: 'n', 14: 'o', 15: 'p', 16: 'q', 17: 'r', 18: 's', 19: 't', 20: 'u', 21: 'v', 22: 'w', 23: 'x', 24: 'y', 25: 'z'}\n"
     ]
    }
   ],
   "source": [
    "EAM_rev = {i-97:chr(i) for i in range(97, 97+26)}\n",
    "print(EAM_rev)\n",
    "# hanyak membalik saja untuk mengubah angka menjadi huruf kembali"
   ]
  },
  {
   "cell_type": "code",
   "execution_count": 7,
   "metadata": {},
   "outputs": [
    {
     "data": {
      "text/plain": [
       "[7, 8, 11, 11, 2, 8, 15, 7, 4, 17]"
      ]
     },
     "execution_count": 7,
     "metadata": {},
     "output_type": "execute_result"
    }
   ],
   "source": [
    "Plain_number = [EAM[i] for i in Plain]\n",
    "Plain_number\n",
    "\n",
    "# mengubah tiap huruf pada teks plain menjadi nomor"
   ]
  },
  {
   "cell_type": "code",
   "execution_count": 8,
   "metadata": {},
   "outputs": [
    {
     "data": {
      "text/plain": [
       "[19, 4, 18, 19]"
      ]
     },
     "execution_count": 8,
     "metadata": {},
     "output_type": "execute_result"
    }
   ],
   "source": [
    "key_number = [EAM[i] for i in Key]\n",
    "key_number\n",
    "# mengubah tiap huruf key menjadi nomor"
   ]
  },
  {
   "cell_type": "code",
   "execution_count": 9,
   "metadata": {},
   "outputs": [],
   "source": [
    "# if len(key_number) % 2 == 0:\n",
    "#     divider = 2\n",
    "# else:\n",
    "#     divider = 3\n",
    "BL = len(key_number)// 2\n",
    "# BL = len(key_number) // divider\n",
    "# Digunakan untuk menjadikan sebuah array menyesuaikan dengan len dari key number"
   ]
  },
  {
   "cell_type": "code",
   "execution_count": 10,
   "metadata": {},
   "outputs": [
    {
     "data": {
      "text/plain": [
       "array([[19,  4],\n",
       "       [18, 19]])"
      ]
     },
     "execution_count": 10,
     "metadata": {},
     "output_type": "execute_result"
    }
   ],
   "source": [
    "key_matrix = np.array(key_number).reshape(BL, BL)\n",
    "key_matrix\n",
    "\n",
    "# Mengubah key number menjadi key matriks 2x2"
   ]
  },
  {
   "cell_type": "code",
   "execution_count": 11,
   "metadata": {},
   "outputs": [
    {
     "data": {
      "text/plain": [
       "array([ 7,  8, 11, 11,  2,  8, 15,  7,  4, 17])"
      ]
     },
     "execution_count": 11,
     "metadata": {},
     "output_type": "execute_result"
    }
   ],
   "source": [
    "Plain_array = np.array(Plain_number)\n",
    "Plain_array\n",
    "#Membuat Plain number tadi menjadi plain array"
   ]
  },
  {
   "cell_type": "code",
   "execution_count": 12,
   "metadata": {},
   "outputs": [
    {
     "data": {
      "text/plain": [
       "[array([7, 8]),\n",
       " array([11, 11]),\n",
       " array([2, 8]),\n",
       " array([15,  7]),\n",
       " array([ 4, 17])]"
      ]
     },
     "execution_count": 12,
     "metadata": {},
     "output_type": "execute_result"
    }
   ],
   "source": [
    "plain_block = np.split(Plain_array, len(Plain_array)/BL)\n",
    "plain_block\n",
    "#Membuat plain block yang memiliki nilai dari plain array dibagi menjadi 2 nilai per array, digunakan untuk mengkalkulasi pada rumus"
   ]
  },
  {
   "cell_type": "code",
   "execution_count": 13,
   "metadata": {},
   "outputs": [
    {
     "data": {
      "text/plain": [
       "[array([17, 24], dtype=int32),\n",
       " array([17, 19], dtype=int32),\n",
       " array([0, 4], dtype=int32),\n",
       " array([21, 11], dtype=int32),\n",
       " array([18,  1], dtype=int32)]"
      ]
     },
     "execution_count": 13,
     "metadata": {},
     "output_type": "execute_result"
    }
   ],
   "source": [
    "CT_blocks = [np.matmul(plain_block[i], key_matrix) % 26 for i in range(len(plain_block))]\n",
    "CT_blocks\n",
    "#Melakukan perhitungan setiap 2 kata/angka yang sudah di split tadi"
   ]
  },
  {
   "cell_type": "code",
   "execution_count": 14,
   "metadata": {},
   "outputs": [
    {
     "data": {
      "text/plain": [
       "array([17, 24, 17, 19,  0,  4, 21, 11, 18,  1], dtype=int32)"
      ]
     },
     "execution_count": 14,
     "metadata": {},
     "output_type": "execute_result"
    }
   ],
   "source": [
    "CT_array = np.concatenate(CT_blocks)\n",
    "CT_array"
   ]
  },
  {
   "cell_type": "code",
   "execution_count": 15,
   "metadata": {},
   "outputs": [
    {
     "data": {
      "text/plain": [
       "['r', 'y', 'r', 't', 'a', 'e', 'v', 'l', 's', 'b']"
      ]
     },
     "execution_count": 15,
     "metadata": {},
     "output_type": "execute_result"
    }
   ],
   "source": [
    "CT = [EAM_rev[CT_array[i]] for i in range(len(CT_array))]\n",
    "CT"
   ]
  },
  {
   "cell_type": "code",
   "execution_count": 16,
   "metadata": {},
   "outputs": [
    {
     "data": {
      "text/plain": [
       "'ryrtaevlsb'"
      ]
     },
     "execution_count": 16,
     "metadata": {},
     "output_type": "execute_result"
    }
   ],
   "source": [
    "''.join(CT)"
   ]
  },
  {
   "cell_type": "code",
   "execution_count": 17,
   "metadata": {},
   "outputs": [
    {
     "data": {
      "text/plain": [
       "array([[ 0.06574394, -0.01384083],\n",
       "       [-0.06228374,  0.06574394]])"
      ]
     },
     "execution_count": 17,
     "metadata": {},
     "output_type": "execute_result"
    }
   ],
   "source": [
    "np.linalg.inv(key_matrix)"
   ]
  },
  {
   "cell_type": "code",
   "execution_count": 18,
   "metadata": {},
   "outputs": [
    {
     "data": {
      "text/plain": [
       "289"
      ]
     },
     "execution_count": 18,
     "metadata": {},
     "output_type": "execute_result"
    }
   ],
   "source": [
    "round(np.linalg.det(key_matrix))"
   ]
  },
  {
   "cell_type": "code",
   "execution_count": 19,
   "metadata": {},
   "outputs": [
    {
     "data": {
      "text/plain": [
       "array([[ 19.,  -4.],\n",
       "       [-18.,  19.]])"
      ]
     },
     "execution_count": 19,
     "metadata": {},
     "output_type": "execute_result"
    }
   ],
   "source": [
    "adj_key_matrix = np.linalg.inv(key_matrix) * round(np.linalg.det(key_matrix))\n",
    "adj_key_matrix"
   ]
  },
  {
   "cell_type": "code",
   "execution_count": 20,
   "metadata": {},
   "outputs": [
    {
     "data": {
      "text/plain": [
       "array([[15., 16.],\n",
       "       [20., 15.]])"
      ]
     },
     "execution_count": 20,
     "metadata": {},
     "output_type": "execute_result"
    }
   ],
   "source": [
    "key_inverse = (9 * adj_key_matrix) % 26\n",
    "key_inverse"
   ]
  },
  {
   "cell_type": "code",
   "execution_count": 21,
   "metadata": {},
   "outputs": [
    {
     "data": {
      "text/plain": [
       "[17, 24, 17, 19, 0, 4, 21, 11, 18, 1]"
      ]
     },
     "execution_count": 21,
     "metadata": {},
     "output_type": "execute_result"
    }
   ],
   "source": [
    "CT_number = [EAM[i] for i in CT]\n",
    "CT_number"
   ]
  },
  {
   "cell_type": "code",
   "execution_count": 22,
   "metadata": {},
   "outputs": [
    {
     "data": {
      "text/plain": [
       "array([17, 24, 17, 19,  0,  4, 21, 11, 18,  1])"
      ]
     },
     "execution_count": 22,
     "metadata": {},
     "output_type": "execute_result"
    }
   ],
   "source": [
    "CT_array = np.array(CT_number)\n",
    "CT_array"
   ]
  },
  {
   "cell_type": "code",
   "execution_count": 23,
   "metadata": {},
   "outputs": [
    {
     "data": {
      "text/plain": [
       "[array([17, 24]),\n",
       " array([17, 19]),\n",
       " array([0, 4]),\n",
       " array([21, 11]),\n",
       " array([18,  1])]"
      ]
     },
     "execution_count": 23,
     "metadata": {},
     "output_type": "execute_result"
    }
   ],
   "source": [
    "CT_blocks = np.split(CT_array, len(CT_number)//BL)\n",
    "CT_blocks"
   ]
  },
  {
   "cell_type": "code",
   "execution_count": 24,
   "metadata": {},
   "outputs": [
    {
     "data": {
      "text/plain": [
       "[array([7., 8.]),\n",
       " array([11., 11.]),\n",
       " array([2., 8.]),\n",
       " array([15.,  7.]),\n",
       " array([ 4., 17.])]"
      ]
     },
     "execution_count": 24,
     "metadata": {},
     "output_type": "execute_result"
    }
   ],
   "source": [
    "PT_blocks = [np.matmul(CT_blocks[i], key_inverse) % 26 for i in range(len(CT_blocks))]\n",
    "PT_blocks"
   ]
  },
  {
   "cell_type": "code",
   "execution_count": 25,
   "metadata": {},
   "outputs": [
    {
     "data": {
      "text/plain": [
       "array([ 7.,  8., 11., 11.,  2.,  8., 15.,  7.,  4., 17.])"
      ]
     },
     "execution_count": 25,
     "metadata": {},
     "output_type": "execute_result"
    }
   ],
   "source": [
    "PT_array = np.concatenate(PT_blocks)\n",
    "PT_array"
   ]
  },
  {
   "cell_type": "code",
   "execution_count": 26,
   "metadata": {},
   "outputs": [
    {
     "data": {
      "text/plain": [
       "['h', 'i', 'l', 'l', 'c', 'i', 'p', 'h', 'e', 'r']"
      ]
     },
     "execution_count": 26,
     "metadata": {},
     "output_type": "execute_result"
    }
   ],
   "source": [
    "PT = [EAM_rev[round(i)] for i in PT_array]\n",
    "PT"
   ]
  },
  {
   "cell_type": "code",
   "execution_count": 27,
   "metadata": {},
   "outputs": [
    {
     "data": {
      "text/plain": [
       "'hillcipher'"
      ]
     },
     "execution_count": 27,
     "metadata": {},
     "output_type": "execute_result"
    }
   ],
   "source": [
    "''.join(PT)"
   ]
  }
 ],
 "metadata": {
  "kernelspec": {
   "display_name": "Python 3 (ipykernel)",
   "language": "python",
   "name": "python3"
  },
  "language_info": {
   "codemirror_mode": {
    "name": "ipython",
    "version": 3
   },
   "file_extension": ".py",
   "mimetype": "text/x-python",
   "name": "python",
   "nbconvert_exporter": "python",
   "pygments_lexer": "ipython3",
   "version": "3.9.16"
  }
 },
 "nbformat": 4,
 "nbformat_minor": 2
}
